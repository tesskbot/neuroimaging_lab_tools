{
 "cells": [
  {
   "cell_type": "code",
   "execution_count": 29,
   "metadata": {
    "collapsed": false
   },
   "outputs": [
    {
     "name": "stdout",
     "output_type": "stream",
     "text": [
      "Populating the interactive namespace from numpy and matplotlib\n"
     ]
    }
   ],
   "source": [
    "%pylab inline"
   ]
  },
  {
   "cell_type": "code",
   "execution_count": 27,
   "metadata": {
    "collapsed": false
   },
   "outputs": [],
   "source": [
    "# Modified from https://gist.github.com/sergiobuj/6721187\n",
    "\n",
    "import numpy as np\n",
    "import matplotlib.pyplot as plt\n",
    "import pandas as pd\n",
    "from matplotlib.path import Path\n",
    "from matplotlib.spines import Spine\n",
    "from matplotlib.projections.polar import PolarAxes\n",
    "from matplotlib.projections import register_projection\n",
    " \n",
    "def _radar_factory(num_vars):\n",
    "    theta = 2*np.pi * np.linspace(0, 1-1./num_vars, num_vars)\n",
    "    theta += np.pi/2\n",
    " \n",
    "    def unit_poly_verts(theta):\n",
    "        x0, y0, r = [0.5] * 3\n",
    "        verts = [(r*np.cos(t) + x0, r*np.sin(t) + y0) for t in theta]\n",
    "        return verts\n",
    " \n",
    "    class RadarAxes(PolarAxes):\n",
    "        name = 'radar'\n",
    "        RESOLUTION = 1\n",
    " \n",
    "        def fill(self, *args, **kwargs):\n",
    "            closed = kwargs.pop('closed', True)\n",
    "            return super(RadarAxes, self).fill(closed=closed, *args, **kwargs)\n",
    " \n",
    "        def plot(self, *args, **kwargs):\n",
    "            lines = super(RadarAxes, self).plot(*args, **kwargs)\n",
    "            for line in lines:\n",
    "                self._close_line(line)\n",
    " \n",
    "        def _close_line(self, line):\n",
    "            x, y = line.get_data()\n",
    "            # FIXME: markers at x[0], y[0] get doubled-up\n",
    "            if x[0] != x[-1]:\n",
    "                x = np.concatenate((x, [x[0]]))\n",
    "                y = np.concatenate((y, [y[0]]))\n",
    "                line.set_data(x, y)\n",
    " \n",
    "        def set_varlabels(self, labels):\n",
    "            self.set_thetagrids(theta * 180/np.pi, labels)\n",
    " \n",
    "        def _gen_axes_patch(self):\n",
    "            verts = unit_poly_verts(theta)\n",
    "            return plt.Polygon(verts, closed=True, edgecolor='k')\n",
    " \n",
    "        def _gen_axes_spines(self):\n",
    "            spine_type = 'circle'\n",
    "            verts = unit_poly_verts(theta)\n",
    "            verts.append(verts[0])\n",
    "            path = Path(verts)\n",
    "            spine = Spine(self, spine_type, path)\n",
    "            spine.set_transform(self.transAxes)\n",
    "            return {'polar': spine}\n",
    " \n",
    "    register_projection(RadarAxes)\n",
    "    return theta\n",
    " \n",
    "def radar_graph(labels = [], values = [], colors = ['k', 'r', 'b', 'g']):\n",
    "    N = len(labels) \n",
    "    theta = _radar_factory(N)\n",
    "    max_val = max(np.concatenate(values))\n",
    "    fig = plt.figure()\n",
    "    ax = fig.add_subplot(1, 1, 1, projection='radar')\n",
    "    for i,value in enumerate(values):\n",
    "        ax.plot(theta, value, color=colors[i])\n",
    "    ax.set_varlabels(labels)"
   ]
  },
  {
   "cell_type": "code",
   "execution_count": null,
   "metadata": {
    "collapsed": false
   },
   "outputs": [],
   "source": [
    "# if __name__ = '__main__':\n",
    "    \n",
    "#     factor_weights = pd.read_excel('/home/jagust/tess/dev/notebooks/factor_weights.xls')\n",
    "#     absfw = abs(factor_weights)\n",
    "#     labels = absfw.columns\n",
    "    \n",
    "#     v1 = absfw.loc[0,:].values\n",
    "#     v2 = absfw.loc[1,:].values\n",
    "#     v3 = absfw.loc[2,:].values\n",
    "#     values = [v1, v2, v3]\n",
    "    \n",
    "#     labels = ['CVLT','Stroop','Listening Span','Category','Arithmetic','Digit Symbol','DS forward',\n",
    "#               'DS backward','Mental control','Logical Memory','Visual representation',\n",
    "#              'Tapping','Trails']\n",
    "    \n",
    "#     radar_graph(labels, values)\n",
    "#     plt.savefig('/home/jagust/tess/LabMeeting_150720/radar.png', dpi=500)"
   ]
  },
  {
   "cell_type": "code",
   "execution_count": null,
   "metadata": {
    "collapsed": true
   },
   "outputs": [],
   "source": []
  }
 ],
 "metadata": {
  "kernelspec": {
   "display_name": "Python 2",
   "language": "python",
   "name": "python2"
  },
  "language_info": {
   "codemirror_mode": {
    "name": "ipython",
    "version": 2
   },
   "file_extension": ".py",
   "mimetype": "text/x-python",
   "name": "python",
   "nbconvert_exporter": "python",
   "pygments_lexer": "ipython2",
   "version": "2.7.10"
  }
 },
 "nbformat": 4,
 "nbformat_minor": 0
}
