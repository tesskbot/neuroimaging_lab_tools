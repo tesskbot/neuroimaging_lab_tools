{
 "cells": [
  {
   "cell_type": "markdown",
   "metadata": {},
   "source": [
    "# gathermany\n",
    "### Brings together data of multiple modalities into a common format\n",
    "This notebook serves as a central location from which to run data collection processes for multiple data modalities. Cells can be run individually, or the entire notebook can be run. Before running, check each cell's inputs to ensure that variables are set correctly for your usage.\n",
    "\n",
    "If you run the last cell on this page, all datatables will be merged into summary tables."
   ]
  },
  {
   "cell_type": "markdown",
   "metadata": {},
   "source": [
    "## First, import all gather functions"
   ]
  },
  {
   "cell_type": "code",
   "execution_count": 1,
   "metadata": {
    "collapsed": false
   },
   "outputs": [],
   "source": [
    "import pandas as pd\n",
    "pd.options.mode.chained_assignment = None  # default='warn'\n",
    "import glob\n",
    "import os, sys\n",
    "from tools import common_funcs as cf\n",
    "from gather import pibparams\n",
    "from gather import mri\n",
    "from gather import fdg_metaroi\n",
    "from gather import factoranalysis\n",
    "from gather import cogtestdates\n",
    "from gather import codetranslator\n",
    "from merge import datamerge"
   ]
  },
  {
   "cell_type": "markdown",
   "metadata": {},
   "source": [
    "## Next, specify directory to save all files"
   ]
  },
  {
   "cell_type": "code",
   "execution_count": 2,
   "metadata": {
    "collapsed": true
   },
   "outputs": [],
   "source": [
    "outdir = 'path'"
   ]
  },
  {
   "cell_type": "markdown",
   "metadata": {},
   "source": [
    "## Then, collect multimodal data"
   ]
  },
  {
   "cell_type": "markdown",
   "metadata": {},
   "source": [
    "### Make code translator"
   ]
  },
  {
   "cell_type": "code",
   "execution_count": null,
   "metadata": {
    "collapsed": false
   },
   "outputs": [],
   "source": [
    "\"\"\"CHANGE THESE THINGS\"\"\"\n",
    "#1. Path to datasheet containing two columns named 'LBNL ID GRAB' and 'BAC#'. \n",
    "infl = '/.xlsx'\n",
    "\n",
    "\"\"\"RUN\"\"\"\n",
    "_ = codetranslator.codetranslator_run(infl, outdir)"
   ]
  },
  {
   "cell_type": "markdown",
   "metadata": {},
   "source": [
    "### Collect PIB"
   ]
  },
  {
   "cell_type": "code",
   "execution_count": 3,
   "metadata": {
    "collapsed": true
   },
   "outputs": [],
   "source": [
    "\"\"\"CHANGE THESE THINGS\"\"\"\n",
    "#1. Path to PIB index data\n",
    "path_pib = glob.glob('.xls')\n",
    "\n",
    "#2. Dictionary designating titles of columns to be extracted from PIB spreadsheet\n",
    "#Keys are existing column headers, and values are modified to fit convention\n",
    "#You may add more columns here\n",
    "pibrename = {}\n",
    "\n",
    "\"\"\"RUN\"\"\"\n",
    "path_pib = path_pib[0]\n",
    "_ = pibparams.pibparams_run(path_pib, pibrename, outdir)"
   ]
  },
  {
   "cell_type": "markdown",
   "metadata": {},
   "source": [
    "### Collect MRI"
   ]
  },
  {
   "cell_type": "code",
   "execution_count": 4,
   "metadata": {
    "collapsed": true
   },
   "outputs": [],
   "source": [
    "\"\"\"CHANGE THESE THINGS\"\"\"\n",
    "#1. Path to freesurfer-processed MRI data\n",
    "datadir = '/old/'\n",
    "\n",
    "#2. Regional data you would like to extract from freesurfer processed data\n",
    "rois = ['lt','rt','mt']\n",
    "\n",
    "\"\"\"RUN\"\"\"\n",
    "_, _ = mri.mri_run(datadir, outdir, rois)"
   ]
  },
  {
   "cell_type": "markdown",
   "metadata": {},
   "source": [
    "### Collect FDG"
   ]
  },
  {
   "cell_type": "code",
   "execution_count": 5,
   "metadata": {
    "collapsed": false
   },
   "outputs": [],
   "source": [
    "\"\"\"CHANGE THESE THINGS\"\"\"\n",
    "#1. Path to FDG_metaroi template brain\n",
    "template = '/ROI.nii'\n",
    "\n",
    "#2. Path to warped FDG data\n",
    "datadir = '/'\n",
    "\n",
    "#3. Filename prefix of FDG scans that have been warped\n",
    "filenm = 'gpi*'\n",
    "\n",
    "#4. Path where warped data will be copied and masked\n",
    "FDGfold = outdir + 'FDG/'\n",
    "\n",
    "\"\"\"RUN\"\"\"\n",
    "_, _ = fdg_metaroi.fdg_metaroi_run(datadir, FDGfold, template, outdir, filenm)"
   ]
  },
  {
   "cell_type": "markdown",
   "metadata": {},
   "source": [
    "### Collect cognitive testing dates"
   ]
  },
  {
   "cell_type": "code",
   "execution_count": null,
   "metadata": {
    "collapsed": false
   },
   "outputs": [],
   "source": [
    "\"\"\"CHANGE THESE THINGS\"\"\"\n",
    "#1. Path to spreadsheet holding cognitive testing dates\n",
    "path_cogdates = '/.xlsx'\n",
    "\n",
    "\"\"\"RUN\"\"\"\n",
    "_, _ = cogtestdates.cogtestdates_run(path_cogdates, staticrename, outdir)"
   ]
  },
  {
   "cell_type": "markdown",
   "metadata": {},
   "source": [
    "### Collect cognitive data and generate factor scores"
   ]
  },
  {
   "cell_type": "code",
   "execution_count": 7,
   "metadata": {
    "collapsed": false
   },
   "outputs": [],
   "source": [
    "\"\"\"CHANGE THESE THINGS\"\"\"\n",
    "#1. Path to cognitive testings scores, where asterisks allow for selection of all files \n",
    "#from all testing sessions\n",
    "cogpth = '*.xls*'\n",
    "\n",
    "#2. Path to baseline data sheet\n",
    "blpth = '.xls'\n",
    "\n",
    "#3. Path to spreadsheet holding weights\n",
    "wpth = '.xls'\n",
    "\n",
    "#4. In the cogpth sheets, this is the column used for subject identification\n",
    "rowind = 'codeb'\n",
    "\n",
    "#6. Dictionary where keys are names of columns holding inverted data, and values\n",
    "#are the columns to invert\n",
    "combine_this = ({'trl': ['tr','tl']})\n",
    "\n",
    "#7. Dictionary where keys are names of columns holding summed data, and values \n",
    "#are the columns to sum\n",
    "invert_this = ({'T_Inverted': 'T'})\n",
    "\n",
    "\"\"\"RUN\"\"\"\n",
    "_, _, _ = factoranalysis.factoranalysis_run(cogpth, blpth, wpth, outdir, rowind, \n",
    "                                                   cogtests_master, combine_this=combine_this,\n",
    "                                                   invert_this=invert_this)"
   ]
  },
  {
   "cell_type": "markdown",
   "metadata": {},
   "source": [
    "## Merge data"
   ]
  },
  {
   "cell_type": "code",
   "execution_count": null,
   "metadata": {
    "collapsed": false
   },
   "outputs": [],
   "source": [
    "\"\"\"CHANGE THESE THINGS\"\"\"\n",
    "#1. List of strings corresponding to filename prefixes of pickle format in outdir\n",
    "filenames = []\n",
    "\n",
    "#2. List of strings corresponding to column names for which rate of change should be \n",
    "#calculated\n",
    "roc_cols = []\n",
    "\n",
    "\"\"\"RUN\"\"\"\n",
    "tbldict, NPtbl, subjtbl = datamerge.datamerge_run(filenames, outdir, roc_cols)"
   ]
  },
  {
   "cell_type": "code",
   "execution_count": null,
   "metadata": {
    "collapsed": true
   },
   "outputs": [],
   "source": []
  }
 ],
 "metadata": {
  "kernelspec": {
   "display_name": "Python 3",
   "language": "python",
   "name": "python3"
  },
  "language_info": {
   "codemirror_mode": {
    "name": "ipython",
    "version": 3
   },
   "file_extension": ".py",
   "mimetype": "text/x-python",
   "name": "python",
   "nbconvert_exporter": "python",
   "pygments_lexer": "ipython3",
   "version": "3.4.3"
  }
 },
 "nbformat": 4,
 "nbformat_minor": 0
}
