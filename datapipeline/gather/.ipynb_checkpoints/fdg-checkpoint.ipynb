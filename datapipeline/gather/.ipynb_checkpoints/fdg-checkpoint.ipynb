{
 "cells": [
  {
   "cell_type": "code",
   "execution_count": 1,
   "metadata": {
    "collapsed": true
   },
   "outputs": [],
   "source": [
    "import os, sys\n",
    "from tools import common_funcs as cf\n",
    "import shutil\n",
    "import glob\n",
    "import subprocess\n",
    "import pandas as pd\n",
    "import re"
   ]
  },
  {
   "cell_type": "code",
   "execution_count": 2,
   "metadata": {
    "collapsed": false
   },
   "outputs": [],
   "source": [
    "def find_and_copy(datadir, FDG_warpfold, filenm='pn*'):\n",
    "    \"\"\"Searches datadir for warped FDG scans and copies them to a processing directory\n",
    "    \n",
    "    Parameters\n",
    "    ----------\n",
    "    datadir : string\n",
    "        Full path of directory containing files\n",
    "    FDG_warpfold : string\n",
    "        Full path of directory to copy files to\n",
    "    filenm : string\n",
    "        General name of warped files. Default is 'pn*'\n",
    "    \n",
    "    Returns\n",
    "    -------\n",
    "    filepaths : list\n",
    "        List of warped files that were copied\n",
    "    warp_subs : list\n",
    "        List of subject ids for the files that were copied\n",
    "    \"\"\"\n",
    "    os.chdir(datadir)\n",
    "\n",
    "    shellfilelist = subprocess.check_output('find . -type f -name \\'%s\\'' %filenm, shell=True)\n",
    "\n",
    "    filelist = shellfilelist.split()\n",
    "    filelist = [s for s in filelist if not (re.search('mr',s) or re.search('M15',s))]\n",
    "    fullpathfilelist = [datadir + s[2:] for s in filelist]\n",
    "\n",
    "    _ = [shutil.copy2(s, FDG_warpfold) for s in fullpathfilelist]\n",
    "    \n",
    "    filepaths = glob.glob(FDG_warpfold +'*')\n",
    "    warp_subs = os.listdir(FDG_warpfold)\n",
    "    \n",
    "    return filepaths, warp_subs"
   ]
  },
  {
   "cell_type": "code",
   "execution_count": 3,
   "metadata": {
    "collapsed": true
   },
   "outputs": [],
   "source": [
    "def create_masks(warp_subs, FDG_warpfold, FDG_maskfold, template):\n",
    "    \"\"\"For each subject in warp_subs, creates a binary mask using the \n",
    "    template and applies it over the subject. The extracted values from \n",
    "    the mask are then deposited into FDG_maskfold\n",
    "    \n",
    "    Parameters\n",
    "    ----------\n",
    "    warp_subs : list\n",
    "        List of files in folder\n",
    "    FDG_warpfold : string\n",
    "        Full path to folder holding data\n",
    "    FDG_maskfold : string\n",
    "        Full path to folder that will hold processed data\n",
    "    template : string\n",
    "        Full path to template brain scan containing mask\n",
    "    \"\"\"\n",
    "    pth,_ = os.path.split(template)\n",
    "    \n",
    "    os.chdir(FDG_warpfold)\n",
    "    \n",
    "    for sub in warp_subs:\n",
    "        os.system('fslmaths '+sub+' -mas '+template+' '+FDG_maskfold+'mi_'+sub)"
   ]
  },
  {
   "cell_type": "code",
   "execution_count": 4,
   "metadata": {
    "collapsed": true
   },
   "outputs": [],
   "source": [
    "def generate_values(mask_dir):\n",
    "    \"\"\"Extracts the mean value from each mask in the roi_mask directory. \n",
    "    Returns these values as a dict.\n",
    "    \n",
    "    Parameters\n",
    "    ----------\n",
    "    mask_dir : string\n",
    "        Full path to masked data\n",
    "    \n",
    "    Returns\n",
    "    -------\n",
    "    metaroi_vals : dict\n",
    "        Dictionary where keys are the filename and values are the mean\n",
    "        FDG value\n",
    "    \"\"\"\n",
    "    masklist = [mask_dir + fl for fl in os.listdir(mask_dir)]\n",
    "    metaroi_vals = {}\n",
    "    for mask in masklist:\n",
    "        roi_value = subprocess.check_output('fslstats '+mask+' -M', shell = True)\n",
    "        if 'nan' in roi_value:\n",
    "            os.system('fslmaths '+mask+' -nan '+mask+'_nonan')\n",
    "            roi_value = subprocess.check_output('fslstats '+mask+'_nonan -M', shell = True)\n",
    "        metaroi_vals.update({mask: roi_value})\n",
    "    return metaroi_vals"
   ]
  },
  {
   "cell_type": "code",
   "execution_count": 5,
   "metadata": {
    "collapsed": true
   },
   "outputs": [],
   "source": [
    "def generate_df(metaroi_vals, outdir):\n",
    "    \"\"\"Generates a dataframe with the metaroi values for each subject\n",
    "    \n",
    "    Parameters    \n",
    "    ----------\n",
    "    metaroi_vals : dict\n",
    "        Dictionary where keys are the filename and values are the mean\n",
    "        FDG value\n",
    "    outdir : string\n",
    "        Full path where FDG output file should be saved\n",
    "        \n",
    "    Returns\n",
    "    -------\n",
    "    metaroi_df : pandas DataFrame\n",
    "        DataFrame where each row is an FDG scan\n",
    "    \"\"\"\n",
    "    metaroi_df = pd.DataFrame.from_dict(metaroi_vals,orient='index')\n",
    "    metaroi_df.reset_index(level=0, inplace=True)\n",
    "    metaroi_df.rename(columns={0:'roi_vals','index':'path'},inplace=True)\n",
    "    metaroi_df['roi_vals'] = [float(x) for x in metaroi_df['roi_vals']]\n",
    "    metaroi_df['codea'] = [cf.get_id(x) for x in metaroi_df['path']]\n",
    "    metaroi_df = metaroi_df.rename(columns={'roi_vals':'FDG_val'})\n",
    "    metaroi_df = metaroi_df.drop('path', axis=1)\n",
    "    \n",
    "    cf.save_xls_and_pkl(metaroi_df, 'fdg_metaroi', outdir)\n",
    "    \n",
    "    return metaroi_df"
   ]
  },
  {
   "cell_type": "code",
   "execution_count": 15,
   "metadata": {
    "collapsed": true
   },
   "outputs": [],
   "source": [
    "def clean_up(fdgdirs):\n",
    "    \"\"\"Deletes files in the folders created by FDG processing\n",
    "    \n",
    "    Parameters\n",
    "    ----------\n",
    "    fdgdirs : list\n",
    "        List of strings corresponding to paths containing data to delete\n",
    "    \"\"\"\n",
    "    for fdgdir in fdgdirs:\n",
    "        files = glob.glob(fdgdir + '*')\n",
    "        for f in files:\n",
    "            os.remove(f)"
   ]
  },
  {
   "cell_type": "code",
   "execution_count": 17,
   "metadata": {
    "collapsed": false
   },
   "outputs": [],
   "source": [
    "def fdg_run(datadir, FDGfold, template, outdir, filenm, cleanup=False):\n",
    "    \"\"\"Main function to college FDG metaroi values\n",
    "    \n",
    "    Parameters    \n",
    "    ----------\n",
    "    datadir : string\n",
    "        Full path of directory containing files\n",
    "    FDGfold : string\n",
    "        Full path of directory where FDG files will be copied. There\n",
    "        should be two folders here named W and M\n",
    "    template : string\n",
    "        Full path to the metaroi mask file ex: rcomposite_ROI.nii\n",
    "    outdir : string\n",
    "        Full path where FDG output file should be saved\n",
    "    filenm : string\n",
    "        General name of warped files. Default is 'pn*'\n",
    "    cleanup : boolean\n",
    "        If TRUE, runs clean_up to delete files created during FDG processsing.\n",
    "        Default is FALSE.\n",
    "        \n",
    "    Returns\n",
    "    -------\n",
    "    metaroi_vals : dict\n",
    "        Dictionary where keys are the filename and values are the mean\n",
    "        value\n",
    "    metaroi_df : pandas DataFrame\n",
    "        DataFrame where each row is a scan\n",
    "    \"\"\"\n",
    "    \n",
    "    if not os.path.exists(FDGfold):\n",
    "        os.makedirs(FDGfold)\n",
    "    FDG_warpfold = FDGfold +'W/'\n",
    "    if not os.path.exists(FDG_warpfold):\n",
    "        os.makedirs(FDG_warpfold)\n",
    "    FDG_maskfold = FDGfold +'J/'\n",
    "    if not os.path.exists(FDG_maskfold):\n",
    "        os.makedirs(FDG_maskfold)\n",
    "    \n",
    "    filepaths, warp_subs = find_and_copy(datadir, FDG_warpfold, filenm)\n",
    "    create_masks(warp_subs, FDG_warpfold, FDG_maskfold, template)\n",
    "    metaroi_vals = generate_metaroi_values(FDG_maskfold)\n",
    "    metaroi_df = generate_df(metaroi_vals, outdir)\n",
    "    \n",
    "    if cleanup==True:\n",
    "        clean_up([FDG_warpfold, FDG_maskfold])\n",
    "    \n",
    "    return metaroi_vals, metaroi_df"
   ]
  },
  {
   "cell_type": "code",
   "execution_count": null,
   "metadata": {
    "collapsed": true
   },
   "outputs": [],
   "source": []
  }
 ],
 "metadata": {
  "kernelspec": {
   "display_name": "Python 3",
   "language": "python",
   "name": "python3"
  },
  "language_info": {
   "codemirror_mode": {
    "name": "ipython",
    "version": 3
   },
   "file_extension": ".py",
   "mimetype": "text/x-python",
   "name": "python",
   "nbconvert_exporter": "python",
   "pygments_lexer": "ipython3",
   "version": "3.4.3"
  }
 },
 "nbformat": 4,
 "nbformat_minor": 0
}
