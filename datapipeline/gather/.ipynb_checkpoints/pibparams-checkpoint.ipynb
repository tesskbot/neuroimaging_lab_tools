{
 "cells": [
  {
   "cell_type": "code",
   "execution_count": 84,
   "metadata": {
    "collapsed": false
   },
   "outputs": [],
   "source": [
    "import pandas as pd\n",
    "import glob\n",
    "import os, sys\n",
    "from tools import common_funcs as cf"
   ]
  },
  {
   "cell_type": "code",
   "execution_count": 87,
   "metadata": {
    "collapsed": true
   },
   "outputs": [],
   "source": [
    "def pibparams_run(path_pib, pibrename, outdir, pibcutoff):\n",
    "    \"\"\"Reads data from the spreadsheet, does some calculations, and \n",
    "    returns a Pandas dataframe with PIB data.\n",
    "    \n",
    "    Parameters\n",
    "    ----------\n",
    "    path_pib : string\n",
    "        String of full path to *.xls\n",
    "    pibrename : dict\n",
    "        Dictionary of name:rename pairs, where the keys are columns in the \n",
    "        PIB spreadsheet and values are what to rename the keys to\n",
    "    outdir : string\n",
    "        Full path where final dataframe will be saved\n",
    "    pibcutoff : float\n",
    "        PIB cutoff value\n",
    "    \n",
    "    Returns\n",
    "    -------\n",
    "    pib_df : pandas dataframe\n",
    "        Dataframe containing all PIB data\n",
    "    \"\"\"\n",
    "\n",
    "    #read in pib data from old sheet\n",
    "    pib_old = pd.read_excel(path_pib, sheetname='i')\n",
    "    #read in PIB data from longitudinal timepoints\n",
    "    pib_long = pd.read_excel(path_pib, sheetname='j')\n",
    "    #concatenate PIB tables\n",
    "    pib_df = pd.concat([pib_long, pib_old])\n",
    "    pib_df = pib_df[pibrename.keys()]\n",
    "    pib_df.rename(columns=pibrename, inplace=True)\n",
    "\n",
    "    #make binary PIB value\n",
    "    pib_df['PIB_Pos'] = pib_df['PIB_Index'].apply(lambda x: 1 if x >= pibcutoff else 0)\n",
    "\n",
    "    #calculate rate of change of PIB_Index in years\n",
    "    pib_df = cf.rate_of_change(pib_df, 'codea', 'PIB_Tp', 'PIB_Scandate', \n",
    "                               'PIB_Index', 'PIB_sl')\n",
    "\n",
    "    #make column for the age at which PIB positivity appears\n",
    "    pib_df.sort(columns=['codea','PIB_Tp'], inplace=True)\n",
    "\n",
    "    #calculate age of PIB positivity\n",
    "    pib_df['PIB_agepos'] = float('nan')\n",
    "    pib_df = pib_df.groupby(by='codea')\n",
    "    pib_df = pib_df.apply(f)\n",
    "    \n",
    "    cf.save_xls_and_pkl(pib_df, 'pibparams', outdir)\n",
    "    \n",
    "    return pib_df"
   ]
  },
  {
   "cell_type": "code",
   "execution_count": 86,
   "metadata": {
    "collapsed": true
   },
   "outputs": [],
   "source": [
    "#calculate age of PIB positivity\n",
    "def f(group):\n",
    "    pos = group[group['PIB_Pos'] == 1]\n",
    "    if len(pos) > 0:\n",
    "        agepos = min(pos['PIB_Age'])\n",
    "        group.ix[:,'PIB_agepos'] = agepos\n",
    "    return group"
   ]
  }
 ],
 "metadata": {
  "kernelspec": {
   "display_name": "Python 3",
   "language": "python",
   "name": "python3"
  },
  "language_info": {
   "codemirror_mode": {
    "name": "ipython",
    "version": 3
   },
   "file_extension": ".py",
   "mimetype": "text/x-python",
   "name": "python",
   "nbconvert_exporter": "python",
   "pygments_lexer": "ipython3",
   "version": "3.4.3"
  }
 },
 "nbformat": 4,
 "nbformat_minor": 0
}
