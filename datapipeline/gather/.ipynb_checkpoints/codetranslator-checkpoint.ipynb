{
 "cells": [
  {
   "cell_type": "code",
   "execution_count": 9,
   "metadata": {
    "collapsed": false
   },
   "outputs": [],
   "source": [
    "import pandas as pd\n",
    "import os, sys\n",
    "from tools import common_funcs as cf"
   ]
  },
  {
   "cell_type": "code",
   "execution_count": 10,
   "metadata": {
    "collapsed": true
   },
   "outputs": [],
   "source": [
    "def codea_to_codeb(codetbl):\n",
    "    \"\"\"Creates two dictionaries that provide mappings from codea and codeb and\n",
    "    vice versa.\n",
    "    \n",
    "    Parameters\n",
    "    ----------\n",
    "    codetbl : pandas DataFrame\n",
    "        DataFrame with two columns named 'codea' and 'codeb' containing\n",
    "        those codes\n",
    "        \n",
    "    Returns\n",
    "    -------\n",
    "    coderef_lblkey : dictionary\n",
    "        Dictionary with codea as keys and codeb as values\n",
    "    coderef_backey : dictionary\n",
    "        Dictionary with codeb as keys and codea as values\n",
    "    \"\"\"\n",
    "    \n",
    "    #remove codes that are missing a partner\n",
    "    codetbl.dropna(inplace=True)\n",
    "    coderef_lblkey = pd.Series(codetbl['codea'].values,index=codetbl['codeb']).to_dict()\n",
    "    coderef_backey = pd.Series(codetbl['codeb'].values,index=codetbl['codea']).to_dict()\n",
    "    return coderef_lblkey, coderef_backey"
   ]
  },
  {
   "cell_type": "code",
   "execution_count": 11,
   "metadata": {
    "collapsed": false
   },
   "outputs": [],
   "source": [
    "def codetranslator_run(codetblpath, outdir):\n",
    "    \"\"\"Takes an excel file as input and generates a pandas dataframe containing only\n",
    "    matched pairs of codea and codeb.\n",
    "    \n",
    "    Parameters\n",
    "    ----------\n",
    "    codetblpath : string\n",
    "        Hard path to the excel file holding code data. Expects two columns named \n",
    "        'codeaGRAB' and 'codeb'.\n",
    "    outdir : string\n",
    "        Hard path to the directory to save the output file\n",
    "        \n",
    "    Renames columns to 'codea' and 'codeb' and saves xls and pkl files named 'codetranslator' \n",
    "    to outdir.\n",
    "    \"\"\"\n",
    "    \n",
    "    codetblin = pd.read_excel(codetblpath)\n",
    "    codetbl = codetblin[['codeaGRAB','codeb']]\n",
    "    codetbl = codetbl.rename(columns={'codeaGRAB' : 'codeb'})\n",
    "    \n",
    "    codetbl = codetbl.dropna()\n",
    "\n",
    "    cf.save_xls_and_pkl(codetbl, 'codetranslator', outdir)\n",
    "    \n",
    "    return codetbl"
   ]
  },
  {
   "cell_type": "code",
   "execution_count": null,
   "metadata": {
    "collapsed": true
   },
   "outputs": [],
   "source": []
  }
 ],
 "metadata": {
  "kernelspec": {
   "display_name": "Python 3",
   "language": "python",
   "name": "python3"
  },
  "language_info": {
   "codemirror_mode": {
    "name": "ipython",
    "version": 3
   },
   "file_extension": ".py",
   "mimetype": "text/x-python",
   "name": "python",
   "nbconvert_exporter": "python",
   "pygments_lexer": "ipython3",
   "version": "3.4.3"
  }
 },
 "nbformat": 4,
 "nbformat_minor": 0
}
